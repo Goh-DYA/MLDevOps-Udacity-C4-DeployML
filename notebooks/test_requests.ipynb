{
 "cells": [
  {
   "cell_type": "markdown",
   "id": "328fa44c",
   "metadata": {},
   "source": [
    "# Test Script\n",
    "\n",
    "Write a script that POSTS to the API using the requests module and returns both the result of model inference and the status code. Include a screenshot of the result. Name this live_post.png.\n"
   ]
  },
  {
   "cell_type": "code",
   "execution_count": 2,
   "id": "69fa9900",
   "metadata": {},
   "outputs": [
    {
     "name": "stdout",
     "output_type": "stream",
     "text": [
      "Status code: 200\n",
      "Result: {'prediction': '<=50K', 'probability': [0.98, 0.02]}\n"
     ]
    }
   ],
   "source": [
    "import requests\n",
    "\n",
    "# Example payload\n",
    "payload = {\n",
    "    \"age\": 39,\n",
    "    \"workclass\": \"State-gov\",\n",
    "    \"fnlgt\": 77516,\n",
    "    \"education\": \"Bachelors\",\n",
    "    \"education-num\": 13,\n",
    "    \"marital-status\": \"Never-married\",\n",
    "    \"occupation\": \"Adm-clerical\",\n",
    "    \"relationship\": \"Not-in-family\",\n",
    "    \"race\": \"White\",\n",
    "    \"sex\": \"Male\",\n",
    "    \"capital-gain\": 2174,\n",
    "    \"capital-loss\": 0,\n",
    "    \"hours-per-week\": 40,\n",
    "    \"native-country\": \"United-States\"\n",
    "}\n",
    "\n",
    "url = \"https://udacity-c4-deployml-app-40802b9cbe2b.herokuapp.com/predict\"\n",
    "\n",
    "response = requests.post(url, json=payload)\n",
    "print(\"Status code:\", response.status_code)\n",
    "print(\"Result:\", response.json())"
   ]
  },
  {
   "cell_type": "code",
   "execution_count": null,
   "id": "180825cb",
   "metadata": {},
   "outputs": [],
   "source": []
  }
 ],
 "metadata": {
  "kernelspec": {
   "display_name": "udacity-311-env",
   "language": "python",
   "name": "python3"
  },
  "language_info": {
   "codemirror_mode": {
    "name": "ipython",
    "version": 3
   },
   "file_extension": ".py",
   "mimetype": "text/x-python",
   "name": "python",
   "nbconvert_exporter": "python",
   "pygments_lexer": "ipython3",
   "version": "3.11.11"
  }
 },
 "nbformat": 4,
 "nbformat_minor": 5
}
