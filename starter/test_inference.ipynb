{
 "cells": [
  {
   "cell_type": "code",
   "execution_count": 1,
   "id": "1e2b9128",
   "metadata": {},
   "outputs": [],
   "source": [
    "import pandas as pd\n",
    "import pickle\n",
    "from ml.data import process_data\n",
    "from ml.model import inference\n",
    "\n",
    "# Load trained model and encoders\n",
    "with open(\"../model/model.pkl\", \"rb\") as f:\n",
    "    model = pickle.load(f)\n",
    "with open(\"../model/encoder.pkl\", \"rb\") as f:\n",
    "    encoder = pickle.load(f)\n",
    "with open(\"../model/lb.pkl\", \"rb\") as f:\n",
    "    lb = pickle.load(f)"
   ]
  },
  {
   "cell_type": "code",
   "execution_count": 2,
   "id": "188bd731",
   "metadata": {},
   "outputs": [
    {
     "name": "stdout",
     "output_type": "stream",
     "text": [
      "[0]\n",
      "Predictions: ['<=50K']\n"
     ]
    }
   ],
   "source": [
    "# Sample data (you can replace this with your actual inference data)\n",
    "sample_data = pd.DataFrame({\n",
    "    \"age\": [39],\n",
    "    \"workclass\": [\" Private\"],\n",
    "    \"fnlgt\": [77516],\n",
    "    \"education\": [\" Bachelors\"],\n",
    "    \"education-num\": [13],\n",
    "    \"marital-status\": [\" Never-married\"],\n",
    "    \"occupation\": [\" Adm-clerical\"],\n",
    "    \"relationship\": [\" Not-in-family\"],\n",
    "    \"race\": [\" White\"],\n",
    "    \"sex\": [\" Male\"],\n",
    "    \"capital-gain\": [5000],\n",
    "    \"capital-loss\": [0],\n",
    "    \"hours-per-week\": [40],\n",
    "    \"native-country\": [\" United-States\"]\n",
    "})\n",
    "\n",
    "# Define categorical features\n",
    "cat_features = [\n",
    "    \"workclass\",\n",
    "    \"education\",\n",
    "    \"marital-status\",\n",
    "    \"occupation\",\n",
    "    \"relationship\",\n",
    "    \"race\",\n",
    "    \"sex\",\n",
    "    \"native-country\",\n",
    "]\n",
    "\n",
    "# Process the inference data\n",
    "X_inference, _, _, _ = process_data(\n",
    "    sample_data,\n",
    "    categorical_features=cat_features,\n",
    "    training=False,\n",
    "    encoder=encoder,\n",
    "    lb=lb\n",
    ")\n",
    "\n",
    "# Make predictions\n",
    "predictions = inference(model, X_inference)\n",
    "\n",
    "# Convert predictions back to labels\n",
    "prediction_labels = lb.inverse_transform(predictions)\n",
    "\n",
    "print(predictions)\n",
    "print(\"Predictions:\", prediction_labels)"
   ]
  }
 ],
 "metadata": {
  "kernelspec": {
   "display_name": "udacity-311-env",
   "language": "python",
   "name": "python3"
  },
  "language_info": {
   "codemirror_mode": {
    "name": "ipython",
    "version": 3
   },
   "file_extension": ".py",
   "mimetype": "text/x-python",
   "name": "python",
   "nbconvert_exporter": "python",
   "pygments_lexer": "ipython3",
   "version": "3.11.11"
  }
 },
 "nbformat": 4,
 "nbformat_minor": 5
}
